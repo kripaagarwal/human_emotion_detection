{
 "cells": [
  {
   "cell_type": "code",
   "execution_count": 1,
   "id": "1c6feeac",
   "metadata": {},
   "outputs": [
    {
     "name": "stdout",
     "output_type": "stream",
     "text": [
      "Requirement already satisfied: Keras-Preprocessing in c:\\users\\naman\\appdata\\local\\programs\\python\\python310\\lib\\site-packages (1.1.2)\n",
      "Requirement already satisfied: numpy>=1.9.1 in c:\\users\\naman\\appdata\\local\\programs\\python\\python310\\lib\\site-packages (from Keras-Preprocessing) (1.24.2)\n",
      "Requirement already satisfied: six>=1.9.0 in c:\\users\\naman\\appdata\\local\\programs\\python\\python310\\lib\\site-packages (from Keras-Preprocessing) (1.16.0)\n",
      "Note: you may need to restart the kernel to use updated packages.\n"
     ]
    },
    {
     "name": "stderr",
     "output_type": "stream",
     "text": [
      "\n",
      "[notice] A new release of pip is available: 23.2 -> 23.3.1\n",
      "[notice] To update, run: python.exe -m pip install --upgrade pip\n"
     ]
    }
   ],
   "source": [
    "pip install Keras-Preprocessing"
   ]
  },
  {
   "cell_type": "code",
   "execution_count": 2,
   "id": "b29ea305",
   "metadata": {},
   "outputs": [],
   "source": [
    "from keras.utils import to_categorical\n",
    "from keras_preprocessing.image import load_img\n",
    "from keras.models import Sequential\n",
    "from tensorflow.keras.layers import Dense, Conv2D, Dropout, Flatten, MaxPooling2D\n",
    "import os\n",
    "import pandas as pd\n",
    "import numpy as np"
   ]
  },
  {
   "cell_type": "code",
   "execution_count": 3,
   "id": "d5c35d7e",
   "metadata": {},
   "outputs": [],
   "source": [
    "TRAIN_DIR = 'images/train'\n",
    "TEST_DIR = 'images/test'"
   ]
  },
  {
   "cell_type": "code",
   "execution_count": 4,
   "id": "946ff4f7",
   "metadata": {},
   "outputs": [],
   "source": [
    "def createdataframe(dir):\n",
    "    image_paths = []\n",
    "    labels = []\n",
    "    for label in os.listdir(dir):\n",
    "        for imagename in os.listdir(os.path.join(dir,label)):\n",
    "            image_paths.append(os.path.join(dir,label,imagename))\n",
    "            labels.append(label)\n",
    "        print(label,\"completed\")\n",
    "    return image_paths,labels\n"
   ]
  },
  {
   "cell_type": "code",
   "execution_count": 5,
   "id": "1a22bc3f",
   "metadata": {},
   "outputs": [
    {
     "name": "stdout",
     "output_type": "stream",
     "text": [
      "angry completed\n",
      "disgust completed\n",
      "fear completed\n",
      "happy completed\n",
      "neutral completed\n",
      "sad completed\n",
      "surprise completed\n"
     ]
    }
   ],
   "source": [
    "train = pd.DataFrame()\n",
    "train['image'],train['label'] = createdataframe(TRAIN_DIR)"
   ]
  },
  {
   "cell_type": "code",
   "execution_count": 6,
   "id": "7935eb9c",
   "metadata": {},
   "outputs": [
    {
     "name": "stdout",
     "output_type": "stream",
     "text": [
      "                                             image     label\n",
      "0         images/train\\angry\\Training_10118481.jpg     angry\n",
      "1         images/train\\angry\\Training_10120469.jpg     angry\n",
      "2         images/train\\angry\\Training_10131352.jpg     angry\n",
      "3         images/train\\angry\\Training_10161559.jpg     angry\n",
      "4          images/train\\angry\\Training_1021836.jpg     angry\n",
      "...                                            ...       ...\n",
      "28704  images/train\\surprise\\Training_99916297.jpg  surprise\n",
      "28705  images/train\\surprise\\Training_99924420.jpg  surprise\n",
      "28706  images/train\\surprise\\Training_99937001.jpg  surprise\n",
      "28707  images/train\\surprise\\Training_99951755.jpg  surprise\n",
      "28708  images/train\\surprise\\Training_99984132.jpg  surprise\n",
      "\n",
      "[28709 rows x 2 columns]\n"
     ]
    }
   ],
   "source": [
    "print(train)"
   ]
  },
  {
   "cell_type": "code",
   "execution_count": 7,
   "id": "4260dd00",
   "metadata": {},
   "outputs": [
    {
     "name": "stdout",
     "output_type": "stream",
     "text": [
      "angry completed\n",
      "disgust completed\n",
      "fear completed\n",
      "happy completed\n",
      "neutral completed\n",
      "sad completed\n",
      "surprise completed\n"
     ]
    }
   ],
   "source": [
    "test = pd.DataFrame()\n",
    "test['image'],test['label'] = createdataframe(TRAIN_DIR)"
   ]
  },
  {
   "cell_type": "code",
   "execution_count": 8,
   "id": "9393d055",
   "metadata": {},
   "outputs": [
    {
     "name": "stdout",
     "output_type": "stream",
     "text": [
      "                                             image     label\n",
      "0         images/train\\angry\\Training_10118481.jpg     angry\n",
      "1         images/train\\angry\\Training_10120469.jpg     angry\n",
      "2         images/train\\angry\\Training_10131352.jpg     angry\n",
      "3         images/train\\angry\\Training_10161559.jpg     angry\n",
      "4          images/train\\angry\\Training_1021836.jpg     angry\n",
      "...                                            ...       ...\n",
      "28704  images/train\\surprise\\Training_99916297.jpg  surprise\n",
      "28705  images/train\\surprise\\Training_99924420.jpg  surprise\n",
      "28706  images/train\\surprise\\Training_99937001.jpg  surprise\n",
      "28707  images/train\\surprise\\Training_99951755.jpg  surprise\n",
      "28708  images/train\\surprise\\Training_99984132.jpg  surprise\n",
      "\n",
      "[28709 rows x 2 columns]\n"
     ]
    }
   ],
   "source": [
    "print(test)"
   ]
  },
  {
   "cell_type": "code",
   "execution_count": 9,
   "id": "2d74ea52",
   "metadata": {},
   "outputs": [],
   "source": [
    "from tqdm.notebook import tqdm"
   ]
  },
  {
   "cell_type": "code",
   "execution_count": 10,
   "id": "e570dc6a",
   "metadata": {},
   "outputs": [],
   "source": [
    "def extract_features(images):\n",
    "    features = []\n",
    "    for image in tqdm(images):\n",
    "        img = load_img(image,grayscale = True)\n",
    "        img = np.array(img)\n",
    "        features.append(img)\n",
    "    features = np.array(features)\n",
    "    features = features.reshape(len(features),48,48,1)\n",
    "    return features"
   ]
  },
  {
   "cell_type": "code",
   "execution_count": 11,
   "id": "0ec36ba5",
   "metadata": {},
   "outputs": [
    {
     "data": {
      "application/vnd.jupyter.widget-view+json": {
       "model_id": "333a8b6e41dd4ba68d33da673d1135ec",
       "version_major": 2,
       "version_minor": 0
      },
      "text/plain": [
       "  0%|          | 0/28709 [00:00<?, ?it/s]"
      ]
     },
     "metadata": {},
     "output_type": "display_data"
    },
    {
     "name": "stderr",
     "output_type": "stream",
     "text": [
      "C:\\Users\\Naman\\AppData\\Local\\Programs\\Python\\Python310\\lib\\site-packages\\keras_preprocessing\\image\\utils.py:107: UserWarning: grayscale is deprecated. Please use color_mode = \"grayscale\"\n",
      "  warnings.warn('grayscale is deprecated. Please use '\n"
     ]
    }
   ],
   "source": [
    "train_features = extract_features(train['image'])"
   ]
  },
  {
   "cell_type": "code",
   "execution_count": 12,
   "id": "196ba27f",
   "metadata": {},
   "outputs": [
    {
     "data": {
      "application/vnd.jupyter.widget-view+json": {
       "model_id": "db936bf3f70f47c6a49eb912ed35b5bf",
       "version_major": 2,
       "version_minor": 0
      },
      "text/plain": [
       "  0%|          | 0/28709 [00:00<?, ?it/s]"
      ]
     },
     "metadata": {},
     "output_type": "display_data"
    }
   ],
   "source": [
    "test_features = extract_features(test['image'])"
   ]
  },
  {
   "cell_type": "code",
   "execution_count": 13,
   "id": "2879a76d",
   "metadata": {},
   "outputs": [],
   "source": [
    "x_train = train_features/255.0\n",
    "x_test = test_features/255.0"
   ]
  },
  {
   "cell_type": "code",
   "execution_count": 14,
   "id": "ed464f53",
   "metadata": {},
   "outputs": [],
   "source": [
    "from sklearn.preprocessing import LabelEncoder"
   ]
  },
  {
   "cell_type": "code",
   "execution_count": 15,
   "id": "267969a4",
   "metadata": {},
   "outputs": [
    {
     "data": {
      "text/html": [
       "<style>#sk-container-id-1 {color: black;}#sk-container-id-1 pre{padding: 0;}#sk-container-id-1 div.sk-toggleable {background-color: white;}#sk-container-id-1 label.sk-toggleable__label {cursor: pointer;display: block;width: 100%;margin-bottom: 0;padding: 0.3em;box-sizing: border-box;text-align: center;}#sk-container-id-1 label.sk-toggleable__label-arrow:before {content: \"▸\";float: left;margin-right: 0.25em;color: #696969;}#sk-container-id-1 label.sk-toggleable__label-arrow:hover:before {color: black;}#sk-container-id-1 div.sk-estimator:hover label.sk-toggleable__label-arrow:before {color: black;}#sk-container-id-1 div.sk-toggleable__content {max-height: 0;max-width: 0;overflow: hidden;text-align: left;background-color: #f0f8ff;}#sk-container-id-1 div.sk-toggleable__content pre {margin: 0.2em;color: black;border-radius: 0.25em;background-color: #f0f8ff;}#sk-container-id-1 input.sk-toggleable__control:checked~div.sk-toggleable__content {max-height: 200px;max-width: 100%;overflow: auto;}#sk-container-id-1 input.sk-toggleable__control:checked~label.sk-toggleable__label-arrow:before {content: \"▾\";}#sk-container-id-1 div.sk-estimator input.sk-toggleable__control:checked~label.sk-toggleable__label {background-color: #d4ebff;}#sk-container-id-1 div.sk-label input.sk-toggleable__control:checked~label.sk-toggleable__label {background-color: #d4ebff;}#sk-container-id-1 input.sk-hidden--visually {border: 0;clip: rect(1px 1px 1px 1px);clip: rect(1px, 1px, 1px, 1px);height: 1px;margin: -1px;overflow: hidden;padding: 0;position: absolute;width: 1px;}#sk-container-id-1 div.sk-estimator {font-family: monospace;background-color: #f0f8ff;border: 1px dotted black;border-radius: 0.25em;box-sizing: border-box;margin-bottom: 0.5em;}#sk-container-id-1 div.sk-estimator:hover {background-color: #d4ebff;}#sk-container-id-1 div.sk-parallel-item::after {content: \"\";width: 100%;border-bottom: 1px solid gray;flex-grow: 1;}#sk-container-id-1 div.sk-label:hover label.sk-toggleable__label {background-color: #d4ebff;}#sk-container-id-1 div.sk-serial::before {content: \"\";position: absolute;border-left: 1px solid gray;box-sizing: border-box;top: 0;bottom: 0;left: 50%;z-index: 0;}#sk-container-id-1 div.sk-serial {display: flex;flex-direction: column;align-items: center;background-color: white;padding-right: 0.2em;padding-left: 0.2em;position: relative;}#sk-container-id-1 div.sk-item {position: relative;z-index: 1;}#sk-container-id-1 div.sk-parallel {display: flex;align-items: stretch;justify-content: center;background-color: white;position: relative;}#sk-container-id-1 div.sk-item::before, #sk-container-id-1 div.sk-parallel-item::before {content: \"\";position: absolute;border-left: 1px solid gray;box-sizing: border-box;top: 0;bottom: 0;left: 50%;z-index: -1;}#sk-container-id-1 div.sk-parallel-item {display: flex;flex-direction: column;z-index: 1;position: relative;background-color: white;}#sk-container-id-1 div.sk-parallel-item:first-child::after {align-self: flex-end;width: 50%;}#sk-container-id-1 div.sk-parallel-item:last-child::after {align-self: flex-start;width: 50%;}#sk-container-id-1 div.sk-parallel-item:only-child::after {width: 0;}#sk-container-id-1 div.sk-dashed-wrapped {border: 1px dashed gray;margin: 0 0.4em 0.5em 0.4em;box-sizing: border-box;padding-bottom: 0.4em;background-color: white;}#sk-container-id-1 div.sk-label label {font-family: monospace;font-weight: bold;display: inline-block;line-height: 1.2em;}#sk-container-id-1 div.sk-label-container {text-align: center;}#sk-container-id-1 div.sk-container {/* jupyter's `normalize.less` sets `[hidden] { display: none; }` but bootstrap.min.css set `[hidden] { display: none !important; }` so we also need the `!important` here to be able to override the default hidden behavior on the sphinx rendered scikit-learn.org. See: https://github.com/scikit-learn/scikit-learn/issues/21755 */display: inline-block !important;position: relative;}#sk-container-id-1 div.sk-text-repr-fallback {display: none;}</style><div id=\"sk-container-id-1\" class=\"sk-top-container\"><div class=\"sk-text-repr-fallback\"><pre>LabelEncoder()</pre><b>In a Jupyter environment, please rerun this cell to show the HTML representation or trust the notebook. <br />On GitHub, the HTML representation is unable to render, please try loading this page with nbviewer.org.</b></div><div class=\"sk-container\" hidden><div class=\"sk-item\"><div class=\"sk-estimator sk-toggleable\"><input class=\"sk-toggleable__control sk-hidden--visually\" id=\"sk-estimator-id-1\" type=\"checkbox\" checked><label for=\"sk-estimator-id-1\" class=\"sk-toggleable__label sk-toggleable__label-arrow\">LabelEncoder</label><div class=\"sk-toggleable__content\"><pre>LabelEncoder()</pre></div></div></div></div></div>"
      ],
      "text/plain": [
       "LabelEncoder()"
      ]
     },
     "execution_count": 15,
     "metadata": {},
     "output_type": "execute_result"
    }
   ],
   "source": [
    "le = LabelEncoder()\n",
    "le.fit(train['label'])"
   ]
  },
  {
   "cell_type": "code",
   "execution_count": 17,
   "id": "dba888a1",
   "metadata": {},
   "outputs": [],
   "source": [
    "y_train = le.transform(train['label'])\n",
    "y_test = le.transform(test['label'])"
   ]
  },
  {
   "cell_type": "code",
   "execution_count": 18,
   "id": "ce353ef8",
   "metadata": {},
   "outputs": [],
   "source": [
    "y_train = to_categorical(y_train,num_classes = 7)\n",
    "y_test = to_categorical(y_test,num_classes = 7)"
   ]
  },
  {
   "cell_type": "code",
   "execution_count": 19,
   "id": "41ad70f5",
   "metadata": {},
   "outputs": [
    {
     "data": {
      "text/plain": [
       "<bound method Sequential.add of <keras.engine.sequential.Sequential object at 0x00000280FD6CF670>>"
      ]
     },
     "execution_count": 19,
     "metadata": {},
     "output_type": "execute_result"
    }
   ],
   "source": [
    "model = Sequential()\n",
    "model.add"
   ]
  },
  {
   "cell_type": "code",
   "execution_count": 20,
   "id": "ce744956",
   "metadata": {},
   "outputs": [],
   "source": [
    "model = Sequential()\n",
    "model.add(Conv2D(128, kernel_size=(3,3),activation='relu',input_shape=(48,48,1)))\n",
    "model.add(MaxPooling2D(pool_size=(2,2)))\n",
    "model.add(Dropout(0.4))\n",
    "\n",
    "model.add(Conv2D(256, kernel_size=(3,3),activation='relu'))\n",
    "model.add(MaxPooling2D(pool_size=(2,2)))\n",
    "model.add(Dropout(0.4))\n",
    "\n",
    "model.add(Conv2D(512, kernel_size=(3,3),activation='relu'))\n",
    "model.add(MaxPooling2D(pool_size=(2,2)))\n",
    "model.add(Dropout(0.4))\n",
    "\n",
    "model.add(Conv2D(512, kernel_size=(3,3),activation='relu'))\n",
    "model.add(MaxPooling2D(pool_size=(2,2)))\n",
    "model.add(Dropout(0.4))\n",
    "\n",
    "model.add(Flatten())\n",
    "model.add(Dense(512, activation='relu'))\n",
    "model.add(Dropout(0.4))\n",
    "model.add(Dense(256, activation='relu'))\n",
    "model.add(Dropout(0.3))\n",
    "model.add(Dense(7, activation='softmax'))\n"
   ]
  },
  {
   "cell_type": "code",
   "execution_count": 22,
   "id": "e3bad306",
   "metadata": {},
   "outputs": [],
   "source": [
    "model.compile(optimizer = 'adam', loss = 'categorical_crossentropy', metrics = 'accuracy')"
   ]
  },
  {
   "cell_type": "code",
   "execution_count": 24,
   "id": "c9bdd66e",
   "metadata": {},
   "outputs": [
    {
     "name": "stdout",
     "output_type": "stream",
     "text": [
      "Epoch 1/50\n",
      "225/225 [==============================] - 1040s 5s/step - loss: 1.8173 - accuracy: 0.2498 - val_loss: 1.8106 - val_accuracy: 0.2513\n",
      "Epoch 2/50\n",
      "225/225 [==============================] - 2236s 10s/step - loss: 1.7967 - accuracy: 0.2546 - val_loss: 1.7733 - val_accuracy: 0.2529\n",
      "Epoch 3/50\n",
      "225/225 [==============================] - 1072s 5s/step - loss: 1.7176 - accuracy: 0.2972 - val_loss: 1.6399 - val_accuracy: 0.3591\n",
      "Epoch 4/50\n",
      "225/225 [==============================] - 1073s 5s/step - loss: 1.5947 - accuracy: 0.3744 - val_loss: 1.4610 - val_accuracy: 0.4253\n",
      "Epoch 5/50\n",
      "225/225 [==============================] - 1102s 5s/step - loss: 1.5097 - accuracy: 0.4167 - val_loss: 1.3649 - val_accuracy: 0.4717\n",
      "Epoch 6/50\n",
      "225/225 [==============================] - 1125s 5s/step - loss: 1.4483 - accuracy: 0.4379 - val_loss: 1.3192 - val_accuracy: 0.5023\n",
      "Epoch 7/50\n",
      "225/225 [==============================] - 1091s 5s/step - loss: 1.4040 - accuracy: 0.4617 - val_loss: 1.2700 - val_accuracy: 0.5149\n",
      "Epoch 8/50\n",
      "225/225 [==============================] - 991s 4s/step - loss: 1.3828 - accuracy: 0.4703 - val_loss: 1.2353 - val_accuracy: 0.5321\n",
      "Epoch 9/50\n",
      "225/225 [==============================] - 1005s 4s/step - loss: 1.3501 - accuracy: 0.4812 - val_loss: 1.2074 - val_accuracy: 0.5371\n",
      "Epoch 10/50\n",
      "225/225 [==============================] - 1011s 4s/step - loss: 1.3345 - accuracy: 0.4898 - val_loss: 1.2078 - val_accuracy: 0.5390\n",
      "Epoch 11/50\n",
      "225/225 [==============================] - 1014s 5s/step - loss: 1.3076 - accuracy: 0.5037 - val_loss: 1.1484 - val_accuracy: 0.5652\n",
      "Epoch 12/50\n",
      "225/225 [==============================] - 1016s 5s/step - loss: 1.2855 - accuracy: 0.5111 - val_loss: 1.1203 - val_accuracy: 0.5786\n",
      "Epoch 13/50\n",
      "225/225 [==============================] - 1070s 5s/step - loss: 1.2721 - accuracy: 0.5148 - val_loss: 1.0952 - val_accuracy: 0.5901\n",
      "Epoch 14/50\n",
      "225/225 [==============================] - 1017s 5s/step - loss: 1.2552 - accuracy: 0.5206 - val_loss: 1.1128 - val_accuracy: 0.5731\n",
      "Epoch 15/50\n",
      "225/225 [==============================] - 1033s 5s/step - loss: 1.2530 - accuracy: 0.5221 - val_loss: 1.0599 - val_accuracy: 0.6010\n",
      "Epoch 16/50\n",
      "225/225 [==============================] - 1028s 5s/step - loss: 1.2254 - accuracy: 0.5331 - val_loss: 1.0397 - val_accuracy: 0.6088\n",
      "Epoch 17/50\n",
      "225/225 [==============================] - 1011s 4s/step - loss: 1.2200 - accuracy: 0.5356 - val_loss: 1.0353 - val_accuracy: 0.6047\n",
      "Epoch 18/50\n",
      "225/225 [==============================] - 1014s 5s/step - loss: 1.2073 - accuracy: 0.5426 - val_loss: 1.0240 - val_accuracy: 0.6096\n",
      "Epoch 19/50\n",
      "225/225 [==============================] - 1018s 5s/step - loss: 1.2019 - accuracy: 0.5429 - val_loss: 0.9937 - val_accuracy: 0.6276\n",
      "Epoch 20/50\n",
      "225/225 [==============================] - 1017s 5s/step - loss: 1.1882 - accuracy: 0.5523 - val_loss: 0.9836 - val_accuracy: 0.6295\n",
      "Epoch 21/50\n",
      "225/225 [==============================] - 1036s 5s/step - loss: 1.1773 - accuracy: 0.5569 - val_loss: 0.9791 - val_accuracy: 0.6364\n",
      "Epoch 22/50\n",
      "225/225 [==============================] - 1007s 4s/step - loss: 1.1703 - accuracy: 0.5595 - val_loss: 0.9805 - val_accuracy: 0.6452\n",
      "Epoch 23/50\n",
      "225/225 [==============================] - 1022s 5s/step - loss: 1.1600 - accuracy: 0.5654 - val_loss: 0.9528 - val_accuracy: 0.6390\n",
      "Epoch 24/50\n",
      "225/225 [==============================] - 1021s 5s/step - loss: 1.1463 - accuracy: 0.5654 - val_loss: 0.9246 - val_accuracy: 0.6586\n",
      "Epoch 25/50\n",
      "225/225 [==============================] - 1018s 5s/step - loss: 1.1414 - accuracy: 0.5713 - val_loss: 0.9289 - val_accuracy: 0.6638\n",
      "Epoch 26/50\n",
      "225/225 [==============================] - 1021s 5s/step - loss: 1.1401 - accuracy: 0.5707 - val_loss: 0.9296 - val_accuracy: 0.6583\n",
      "Epoch 27/50\n",
      "225/225 [==============================] - 1017s 5s/step - loss: 1.1292 - accuracy: 0.5719 - val_loss: 0.8983 - val_accuracy: 0.6684\n",
      "Epoch 28/50\n",
      "225/225 [==============================] - 1032s 5s/step - loss: 1.1152 - accuracy: 0.5809 - val_loss: 0.8976 - val_accuracy: 0.6686\n",
      "Epoch 29/50\n",
      "225/225 [==============================] - 1026s 5s/step - loss: 1.1066 - accuracy: 0.5820 - val_loss: 0.8794 - val_accuracy: 0.6817\n",
      "Epoch 30/50\n",
      "225/225 [==============================] - 1023s 5s/step - loss: 1.1086 - accuracy: 0.5830 - val_loss: 0.8830 - val_accuracy: 0.6786\n",
      "Epoch 31/50\n",
      "225/225 [==============================] - 1022s 5s/step - loss: 1.0971 - accuracy: 0.5850 - val_loss: 0.8749 - val_accuracy: 0.6823\n",
      "Epoch 32/50\n",
      "225/225 [==============================] - 1019s 5s/step - loss: 1.0942 - accuracy: 0.5877 - val_loss: 0.8561 - val_accuracy: 0.6947\n",
      "Epoch 33/50\n",
      "225/225 [==============================] - 1019s 5s/step - loss: 1.0881 - accuracy: 0.5919 - val_loss: 0.8574 - val_accuracy: 0.6841\n",
      "Epoch 34/50\n",
      "225/225 [==============================] - 1016s 5s/step - loss: 1.0805 - accuracy: 0.5954 - val_loss: 0.8308 - val_accuracy: 0.7002\n",
      "Epoch 35/50\n",
      "225/225 [==============================] - 1020s 5s/step - loss: 1.0652 - accuracy: 0.5982 - val_loss: 0.8225 - val_accuracy: 0.7058\n",
      "Epoch 36/50\n",
      "225/225 [==============================] - 1023s 5s/step - loss: 1.0605 - accuracy: 0.6014 - val_loss: 0.8081 - val_accuracy: 0.7093\n",
      "Epoch 37/50\n",
      "225/225 [==============================] - 1024s 5s/step - loss: 1.0600 - accuracy: 0.6020 - val_loss: 0.8280 - val_accuracy: 0.7178\n",
      "Epoch 38/50\n",
      "225/225 [==============================] - 1013s 5s/step - loss: 1.0508 - accuracy: 0.6025 - val_loss: 0.7972 - val_accuracy: 0.7156\n",
      "Epoch 39/50\n",
      "225/225 [==============================] - 1025s 5s/step - loss: 1.0440 - accuracy: 0.6079 - val_loss: 0.7744 - val_accuracy: 0.7206\n",
      "Epoch 40/50\n",
      "225/225 [==============================] - 1034s 5s/step - loss: 1.0374 - accuracy: 0.6081 - val_loss: 0.7991 - val_accuracy: 0.7217\n",
      "Epoch 41/50\n",
      "225/225 [==============================] - 1015s 5s/step - loss: 1.0328 - accuracy: 0.6116 - val_loss: 0.7635 - val_accuracy: 0.7290\n",
      "Epoch 42/50\n",
      "225/225 [==============================] - 1026s 5s/step - loss: 1.0371 - accuracy: 0.6074 - val_loss: 0.7589 - val_accuracy: 0.7340\n",
      "Epoch 43/50\n",
      "225/225 [==============================] - 1013s 5s/step - loss: 1.0220 - accuracy: 0.6169 - val_loss: 0.7530 - val_accuracy: 0.7414\n",
      "Epoch 44/50\n",
      "225/225 [==============================] - 1048s 5s/step - loss: 1.0161 - accuracy: 0.6184 - val_loss: 0.7281 - val_accuracy: 0.7414\n",
      "Epoch 45/50\n",
      "225/225 [==============================] - 1018s 5s/step - loss: 1.0133 - accuracy: 0.6209 - val_loss: 0.7379 - val_accuracy: 0.7492\n",
      "Epoch 46/50\n",
      "225/225 [==============================] - 1011s 4s/step - loss: 1.0046 - accuracy: 0.6224 - val_loss: 0.7272 - val_accuracy: 0.7477\n",
      "Epoch 47/50\n",
      "225/225 [==============================] - 1011s 4s/step - loss: 0.9981 - accuracy: 0.6248 - val_loss: 0.7209 - val_accuracy: 0.7480\n",
      "Epoch 48/50\n",
      "225/225 [==============================] - 1028s 5s/step - loss: 0.9942 - accuracy: 0.6307 - val_loss: 0.7152 - val_accuracy: 0.7546\n",
      "Epoch 49/50\n",
      "225/225 [==============================] - 1021s 5s/step - loss: 0.9859 - accuracy: 0.6342 - val_loss: 0.6959 - val_accuracy: 0.7652\n",
      "Epoch 50/50\n",
      "225/225 [==============================] - 1058s 5s/step - loss: 0.9832 - accuracy: 0.6296 - val_loss: 0.7159 - val_accuracy: 0.7607\n"
     ]
    },
    {
     "data": {
      "text/plain": [
       "<keras.callbacks.History at 0x281111bcfa0>"
      ]
     },
     "execution_count": 24,
     "metadata": {},
     "output_type": "execute_result"
    }
   ],
   "source": [
    "model.fit(x=x_train, y= y_train, batch_size = 128, epochs = 50, validation_data = (x_test, y_test))"
   ]
  },
  {
   "cell_type": "code",
   "execution_count": 25,
   "id": "67f86bc8",
   "metadata": {},
   "outputs": [],
   "source": [
    "model_json = model.to_json()\n",
    "with open(\"emotiondetector.json\",'w') as json_file:\n",
    "        json_file.write(model_json)\n",
    "model.save(\"emotiondetector.h5\")"
   ]
  },
  {
   "cell_type": "code",
   "execution_count": 26,
   "id": "ec3355e2",
   "metadata": {},
   "outputs": [],
   "source": [
    "from keras.models import model_from_json"
   ]
  },
  {
   "cell_type": "code",
   "execution_count": 27,
   "id": "d0f461a8",
   "metadata": {},
   "outputs": [],
   "source": [
    "json_file = open(\"emotiondetector.json\",\"r\")\n",
    "model_json = json_file.read()\n",
    "json_file.close()\n",
    "model = model_from_json(model_json)\n",
    "model.load_weights(\"emotiondetector.h5\")"
   ]
  },
  {
   "cell_type": "code",
   "execution_count": 28,
   "id": "846520fd",
   "metadata": {},
   "outputs": [],
   "source": [
    "label = ['angry', 'disgust', 'fear', 'happy', 'neutral', 'sad', 'surprise']"
   ]
  },
  {
   "cell_type": "code",
   "execution_count": 33,
   "id": "d3b79113",
   "metadata": {},
   "outputs": [],
   "source": [
    "def ef(image):\n",
    "    img = load_img(image, grayscale = True)\n",
    "    feature = np.array(img)\n",
    "    feature = feature.reshape(1,48,48,1)\n",
    "    return feature/255.0"
   ]
  },
  {
   "cell_type": "code",
   "execution_count": 36,
   "id": "82ad1e87",
   "metadata": {},
   "outputs": [
    {
     "name": "stdout",
     "output_type": "stream",
     "text": [
      "1/1 [==============================] - 0s 28ms/step\n",
      "model prediction is  fear\n"
     ]
    }
   ],
   "source": [
    "image = 'images/test/angry/PrivateTest_2328297.jpg'\n",
    "img = ef(image)\n",
    "pred = model.predict(img)\n",
    "pred_label = label[pred.argmax()]\n",
    "print(\"model prediction is \", pred_label)"
   ]
  },
  {
   "cell_type": "code",
   "execution_count": 37,
   "id": "e3f86c93",
   "metadata": {},
   "outputs": [],
   "source": [
    "import matplotlib.pyplot as plt\n",
    "%matplotlib inline"
   ]
  },
  {
   "cell_type": "code",
   "execution_count": 40,
   "id": "7ea2fb19",
   "metadata": {},
   "outputs": [
    {
     "name": "stdout",
     "output_type": "stream",
     "text": [
      "1/1 [==============================] - 0s 33ms/step\n",
      "model prediction is  fear\n"
     ]
    },
    {
     "data": {
      "text/plain": [
       "<matplotlib.image.AxesImage at 0x281013bfb20>"
      ]
     },
     "execution_count": 40,
     "metadata": {},
     "output_type": "execute_result"
    },
    {
     "data": {
      "image/png": "[encoded data removed]",
      "text/plain": [
       "<Figure size 640x480 with 1 Axes>"
      ]
     },
     "metadata": {},
     "output_type": "display_data"
    }
   ],
   "source": [
    "image = 'images/test/angry/PrivateTest_2328297.jpg'\n",
    "img = ef(image)\n",
    "pred = model.predict(img)\n",
    "pred_label = label[pred.argmax()]\n",
    "print(\"model prediction is \", pred_label)\n",
    "plt.imshow(img.reshape(48,48),cmap='gray')"
   ]
  },
  {
   "cell_type": "code",
   "execution_count": null,
   "id": "365176ec",
   "metadata": {},
   "outputs": [],
   "source": []
  }
 ],
 "metadata": {
  "kernelspec": {
   "display_name": "Python 3 (ipykernel)",
   "language": "python",
   "name": "python3"
  },
  "language_info": {
   "codemirror_mode": {
    "name": "ipython",
    "version": 3
   },
   "file_extension": ".py",
   "mimetype": "text/x-python",
   "name": "python",
   "nbconvert_exporter": "python",
   "pygments_lexer": "ipython3",
   "version": "3.10.1"
  }
 },
 "nbformat": 4,
 "nbformat_minor": 5
}
